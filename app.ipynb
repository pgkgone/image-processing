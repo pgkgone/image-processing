{
 "cells": [
  {
   "cell_type": "code",
   "execution_count": 3,
   "id": "bdce721f",
   "metadata": {},
   "outputs": [
    {
     "data": {
      "application/vnd.jupyter.widget-view+json": {
       "model_id": "ca1d11ad51bf4841b785160987eb2a2e",
       "version_major": 2,
       "version_minor": 0
      },
      "text/plain": [
       "VBox(children=(Label(value='Upload an image (JPEG or PNG):'), FileUpload(value=(), accept='image/*', descripti…"
      ]
     },
     "metadata": {},
     "output_type": "display_data"
    },
    {
     "data": {
      "application/vnd.jupyter.widget-view+json": {
       "model_id": "aa92784bb85148189a912071de807a63",
       "version_major": 2,
       "version_minor": 0
      },
      "text/plain": [
       "HTML(value='<a download=\"processed_image.png\" href=\"data:image/png;base64,iVBORw0KGgoAAAANSUhEUgAAARMAAAC3CAIA…"
      ]
     },
     "metadata": {},
     "output_type": "display_data"
    }
   ],
   "source": [
    "import numpy as np\n",
    "import matplotlib.pyplot as plt\n",
    "from scipy import ndimage\n",
    "import ipywidgets as widgets\n",
    "from IPython.display import display, clear_output\n",
    "from PIL import Image\n",
    "import io\n",
    "import time\n",
    "from base64 import b64encode\n",
    "import cv2\n",
    "\n",
    "def enhance_sharpness(image, amount=1.0):\n",
    "    blurred = ndimage.gaussian_filter(image, sigma=1)\n",
    "    mask = image - blurred\n",
    "    sharpened = image + amount * mask\n",
    "    return np.clip(sharpened, 0, 255)\n",
    "\n",
    "def remove_noise_gaussian_blur(image):\n",
    "    denoised_image = cv2.GaussianBlur(image, (7, 7), 0)\n",
    "    return denoised_image\n",
    "\n",
    "uploader = widgets.FileUpload(\n",
    "    accept='image/*',\n",
    "    multiple=False\n",
    ")\n",
    "\n",
    "processing_options = widgets.SelectMultiple(\n",
    "    options=['Enhance Sharpness', 'Remove Noise'],\n",
    "    value=[],\n",
    "    description='Processing:'\n",
    ")\n",
    "\n",
    "process_button = widgets.Button(\n",
    "    description='Process Image',\n",
    "    button_style='success'\n",
    ")\n",
    "\n",
    "download_button = widgets.Button(\n",
    "    description='Download Processed Image',\n",
    "    button_style='info',\n",
    "    disabled=True\n",
    ")\n",
    "\n",
    "output_image = widgets.Output()\n",
    "metrics_output = widgets.Output()\n",
    "\n",
    "def on_process_button_clicked(b):\n",
    "    with output_image:\n",
    "        clear_output()\n",
    "        if not uploader.value:\n",
    "            print(\"Please upload an image file.\")\n",
    "            return\n",
    "        \n",
    "        start_time = time.time()\n",
    "        \n",
    "        if isinstance(uploader.value, dict):\n",
    "            uploaded_file = next(iter(uploader.value.values()))\n",
    "        else:\n",
    "            uploaded_file = uploader.value[0]\n",
    "        content = uploaded_file['content']\n",
    "        image = Image.open(io.BytesIO(content)).convert('RGB')\n",
    "        image_np = np.array(image).astype(np.float64)\n",
    "        \n",
    "        if image_np.nbytes > 2 * 1024 * 1024 * 1024:\n",
    "            print(\"Image is too large to process.\")\n",
    "            return\n",
    "        \n",
    "        original_image_np = image_np.copy()\n",
    "        \n",
    "        if 'Enhance Sharpness' in processing_options.value:\n",
    "            image_np = enhance_sharpness(image_np)\n",
    "        if 'Remove Noise' in processing_options.value:\n",
    "            image_np = remove_noise_gaussian_blur(image_np)\n",
    "        \n",
    "        processing_time = time.time() - start_time\n",
    "        if processing_time > 5:\n",
    "            print(\"Processing took too long (>5 seconds).\")\n",
    "            return\n",
    "        \n",
    "        fig, axes = plt.subplots(1, 2, figsize=(10, 5))\n",
    "        axes[0].imshow(original_image_np.astype(np.uint8))\n",
    "        axes[0].set_title('Original Image')\n",
    "        axes[0].axis('off')\n",
    "\n",
    "        axes[1].imshow(image_np.astype(np.uint8))\n",
    "        axes[1].set_title('Processed Image')\n",
    "        axes[1].axis('off')\n",
    "        \n",
    "        plt.show()\n",
    "        \n",
    "        download_button.disabled = False\n",
    "\n",
    "        processed_image_pil = Image.fromarray(np.uint8(image_np))\n",
    "        download_button.processed_image_pil = processed_image_pil\n",
    "    \n",
    "def on_download_button_clicked(b):\n",
    "    processed_image_pil = b.processed_image_pil\n",
    "    with io.BytesIO() as output:\n",
    "        processed_image_pil.save(output, format=\"PNG\")\n",
    "        contents = output.getvalue()\n",
    "        data_url = \"data:image/png;base64,\" + b64encode(contents).decode()\n",
    "        display(widgets.HTML(f'<a download=\"processed_image.png\" href=\"{data_url}\" target=\"_blank\">Click here to download your image</a>'))\n",
    "    \n",
    "process_button.on_click(on_process_button_clicked)\n",
    "download_button.on_click(on_download_button_clicked)\n",
    "\n",
    "display(widgets.VBox([\n",
    "    widgets.Label(\"Upload an image (JPEG or PNG):\"),\n",
    "    uploader,\n",
    "    processing_options,\n",
    "    process_button,\n",
    "    output_image,\n",
    "    metrics_output,\n",
    "    download_button\n",
    "]))\n"
   ]
  }
 ],
 "metadata": {
  "kernelspec": {
   "display_name": "Python 3",
   "language": "python",
   "name": "python3"
  },
  "language_info": {
   "codemirror_mode": {
    "name": "ipython",
    "version": 3
   },
   "file_extension": ".py",
   "mimetype": "text/x-python",
   "name": "python",
   "nbconvert_exporter": "python",
   "pygments_lexer": "ipython3",
   "version": "3.11.8"
  }
 },
 "nbformat": 4,
 "nbformat_minor": 5
}
